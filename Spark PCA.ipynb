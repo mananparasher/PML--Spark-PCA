{
 "cells": [
  {
   "cell_type": "markdown",
   "metadata": {},
   "source": [
    "## Import the Libraries "
   ]
  },
  {
   "cell_type": "code",
   "execution_count": null,
   "metadata": {},
   "outputs": [],
   "source": [
    "from numpy import array\n",
    "from math import sqrt\n",
    "from pyspark.mllib.linalg.distributed import RowMatrix\n",
    "from pyspark.ml.feature import StringIndexer, VectorAssembler\n",
    "from pyspark.sql import SparkSession\n",
    "from pyspark.mllib.linalg import Vectors\n",
    "spark = SparkSession.builder.appName(\"PCA\").getOrCreate()"
   ]
  },
  {
   "cell_type": "markdown",
   "metadata": {},
   "source": [
    "## Download the Dataset "
   ]
  },
  {
   "cell_type": "code",
   "execution_count": 2,
   "metadata": {},
   "outputs": [
    {
     "name": "stdout",
     "output_type": "stream",
     "text": [
      "Warning: Failed to set locale category LC_NUMERIC to en_IN.\n",
      "Warning: Failed to set locale category LC_TIME to en_IN.\n",
      "Warning: Failed to set locale category LC_COLLATE to en_IN.\n",
      "Warning: Failed to set locale category LC_MONETARY to en_IN.\n",
      "Warning: Failed to set locale category LC_MESSAGES to en_IN.\n",
      "--2020-06-22 21:19:25--  https://raw.githubusercontent.com/mananparasher/Spark-Datasets/master/breast-cancer-wisconsin.csv\n",
      "Resolving raw.githubusercontent.com (raw.githubusercontent.com)... 151.101.124.133\n",
      "Connecting to raw.githubusercontent.com (raw.githubusercontent.com)|151.101.124.133|:443... connected.\n",
      "HTTP request sent, awaiting response... 200 OK\n",
      "Length: 24063 (23K) [text/plain]\n",
      "Saving to: ‘breast-cancer-wisconsin.csv.2’\n",
      "\n",
      "breast-cancer-wisco 100%[===================>]  23.50K  --.-KB/s    in 0.07s   \n",
      "\n",
      "2020-06-22 21:19:25 (359 KB/s) - ‘breast-cancer-wisconsin.csv.2’ saved [24063/24063]\n",
      "\n"
     ]
    }
   ],
   "source": [
    "!wget https://raw.githubusercontent.com/mananparasher/Spark-Datasets/master/breast-cancer-wisconsin.csv"
   ]
  },
  {
   "cell_type": "markdown",
   "metadata": {},
   "source": [
    "## Load the Data in Spark DataFrame "
   ]
  },
  {
   "cell_type": "code",
   "execution_count": 2,
   "metadata": {},
   "outputs": [
    {
     "name": "stdout",
     "output_type": "stream",
     "text": [
      "root\n",
      " |-- _c0: integer (nullable = true)\n",
      " |-- id: integer (nullable = true)\n",
      " |-- Clump_Thickness: integer (nullable = true)\n",
      " |-- Cell_Size: integer (nullable = true)\n",
      " |-- Cell_Shape: integer (nullable = true)\n",
      " |-- Marginal_Adhesion: integer (nullable = true)\n",
      " |-- Epithelial_Cell_Size: integer (nullable = true)\n",
      " |-- Bare_Nuclei: double (nullable = true)\n",
      " |-- Bland_Chromatin: integer (nullable = true)\n",
      " |-- Normal_Nucleoli: integer (nullable = true)\n",
      " |-- Mitoses: integer (nullable = true)\n",
      " |-- Class: integer (nullable = true)\n",
      "\n"
     ]
    }
   ],
   "source": [
    "df = spark.read.csv('breast-cancer-wisconsin.csv', header = True, inferSchema = True)\n",
    "df.printSchema()"
   ]
  },
  {
   "cell_type": "markdown",
   "metadata": {},
   "source": [
    "## Data Processing for Machine Learning model  "
   ]
  },
  {
   "cell_type": "code",
   "execution_count": 170,
   "metadata": {},
   "outputs": [
    {
     "name": "stdout",
     "output_type": "stream",
     "text": [
      "+--------------------+\n",
      "|            features|\n",
      "+--------------------+\n",
      "|[5.0,1.0,1.0,1.0,...|\n",
      "|[5.0,4.0,4.0,5.0,...|\n",
      "|[3.0,1.0,1.0,1.0,...|\n",
      "|[6.0,8.0,8.0,1.0,...|\n",
      "|[4.0,1.0,1.0,3.0,...|\n",
      "|[8.0,10.0,10.0,8....|\n",
      "|[1.0,1.0,1.0,1.0,...|\n",
      "|[2.0,1.0,2.0,1.0,...|\n",
      "|[2.0,1.0,1.0,1.0,...|\n",
      "|[4.0,2.0,1.0,1.0,...|\n",
      "|[1.0,1.0,1.0,1.0,...|\n",
      "|[2.0,1.0,1.0,1.0,...|\n",
      "|[5.0,3.0,3.0,3.0,...|\n",
      "|[1.0,1.0,1.0,1.0,...|\n",
      "|[8.0,7.0,5.0,10.0...|\n",
      "|[7.0,4.0,6.0,4.0,...|\n",
      "|[4.0,1.0,1.0,1.0,...|\n",
      "|[4.0,1.0,1.0,1.0,...|\n",
      "|[10.0,7.0,7.0,6.0...|\n",
      "|[6.0,1.0,1.0,1.0,...|\n",
      "+--------------------+\n",
      "only showing top 20 rows\n",
      "\n"
     ]
    }
   ],
   "source": [
    "vectorAssembler = VectorAssembler(inputCols = ['Clump_Thickness', 'Cell_Size', 'Cell_Shape',\\\n",
    "'Marginal_Adhesion', 'Epithelial_Cell_Size', 'Normal_Nucleoli', 'Bland_Chromatin',\\\n",
    "'Bare_Nuclei', 'Mitoses', 'Class'], outputCol = 'features')\n",
    "\n",
    "transformed_df = vectorAssembler.transform(df)\n",
    "transformed_df=transformed_df.select(\"features\")\n",
    "transformed_df.show()"
   ]
  },
  {
   "cell_type": "code",
   "execution_count": 172,
   "metadata": {},
   "outputs": [
    {
     "data": {
      "text/plain": [
       "[DenseVector([5.0, 1.0, 1.0, 1.0, 2.0, 1.0, 3.0, 1.0, 1.0, 2.0]),\n",
       " DenseVector([5.0, 4.0, 4.0, 5.0, 7.0, 2.0, 3.0, 10.0, 1.0, 2.0]),\n",
       " DenseVector([3.0, 1.0, 1.0, 1.0, 2.0, 1.0, 3.0, 2.0, 1.0, 2.0]),\n",
       " DenseVector([6.0, 8.0, 8.0, 1.0, 3.0, 7.0, 3.0, 4.0, 1.0, 2.0]),\n",
       " DenseVector([4.0, 1.0, 1.0, 3.0, 2.0, 1.0, 3.0, 1.0, 1.0, 2.0]),\n",
       " DenseVector([8.0, 10.0, 10.0, 8.0, 7.0, 7.0, 9.0, 10.0, 1.0, 4.0]),\n",
       " DenseVector([1.0, 1.0, 1.0, 1.0, 2.0, 1.0, 3.0, 10.0, 1.0, 2.0]),\n",
       " DenseVector([2.0, 1.0, 2.0, 1.0, 2.0, 1.0, 3.0, 1.0, 1.0, 2.0]),\n",
       " DenseVector([2.0, 1.0, 1.0, 1.0, 2.0, 1.0, 1.0, 1.0, 5.0, 2.0]),\n",
       " DenseVector([4.0, 2.0, 1.0, 1.0, 2.0, 1.0, 2.0, 1.0, 1.0, 2.0]),\n",
       " DenseVector([1.0, 1.0, 1.0, 1.0, 1.0, 1.0, 3.0, 1.0, 1.0, 2.0]),\n",
       " DenseVector([2.0, 1.0, 1.0, 1.0, 2.0, 1.0, 2.0, 1.0, 1.0, 2.0]),\n",
       " DenseVector([5.0, 3.0, 3.0, 3.0, 2.0, 4.0, 4.0, 3.0, 1.0, 4.0]),\n",
       " DenseVector([1.0, 1.0, 1.0, 1.0, 2.0, 1.0, 3.0, 3.0, 1.0, 2.0]),\n",
       " DenseVector([8.0, 7.0, 5.0, 10.0, 7.0, 5.0, 5.0, 9.0, 4.0, 4.0]),\n",
       " DenseVector([7.0, 4.0, 6.0, 4.0, 6.0, 3.0, 4.0, 1.0, 1.0, 4.0]),\n",
       " DenseVector([4.0, 1.0, 1.0, 1.0, 2.0, 1.0, 2.0, 1.0, 1.0, 2.0]),\n",
       " DenseVector([4.0, 1.0, 1.0, 1.0, 2.0, 1.0, 3.0, 1.0, 1.0, 2.0]),\n",
       " DenseVector([10.0, 7.0, 7.0, 6.0, 4.0, 1.0, 4.0, 10.0, 2.0, 4.0]),\n",
       " DenseVector([6.0, 1.0, 1.0, 1.0, 2.0, 1.0, 3.0, 1.0, 1.0, 2.0])]"
      ]
     },
     "execution_count": 172,
     "metadata": {},
     "output_type": "execute_result"
    }
   ],
   "source": [
    "DenseVector_rows=[]\n",
    "for row in transformed_df.take(20):\n",
    "    DenseVector_rows.append(Vectors.dense(  tuple(row.__getitem__(\"features\").values.tolist())))\n",
    "    \n",
    "DenseVector_rows"
   ]
  },
  {
   "cell_type": "code",
   "execution_count": 173,
   "metadata": {},
   "outputs": [
    {
     "data": {
      "text/plain": [
       "[DenseVector([5.0, 1.0, 1.0, 1.0, 2.0, 1.0, 3.0, 1.0, 1.0, 2.0]),\n",
       " DenseVector([5.0, 4.0, 4.0, 5.0, 7.0, 2.0, 3.0, 10.0, 1.0, 2.0]),\n",
       " DenseVector([3.0, 1.0, 1.0, 1.0, 2.0, 1.0, 3.0, 2.0, 1.0, 2.0]),\n",
       " DenseVector([6.0, 8.0, 8.0, 1.0, 3.0, 7.0, 3.0, 4.0, 1.0, 2.0]),\n",
       " DenseVector([4.0, 1.0, 1.0, 3.0, 2.0, 1.0, 3.0, 1.0, 1.0, 2.0])]"
      ]
     },
     "execution_count": 173,
     "metadata": {},
     "output_type": "execute_result"
    }
   ],
   "source": [
    "rows = sc.parallelize(DenseVector_rows)\n",
    "rows.take(5)"
   ]
  },
  {
   "cell_type": "markdown",
   "metadata": {},
   "source": [
    "## Model Implementation  "
   ]
  },
  {
   "cell_type": "code",
   "execution_count": 174,
   "metadata": {},
   "outputs": [
    {
     "data": {
      "text/plain": [
       "DenseMatrix(10, 3, [-0.3191, -0.427, -0.405, -0.3734, -0.2689, -0.2401, -0.1983, -0.4808, ..., -0.3121, 0.5289, 0.236, -0.4011, -0.0538, -0.2046, 0.2123, 0.1377], 0)"
      ]
     },
     "execution_count": 174,
     "metadata": {},
     "output_type": "execute_result"
    }
   ],
   "source": [
    "rowmatrix = RowMatrix(rows)\n",
    "pca = rowmatrix.computePrincipalComponents(3)\n",
    "pca"
   ]
  }
 ],
 "metadata": {
  "kernelspec": {
   "display_name": "Python 3",
   "language": "python",
   "name": "python3"
  },
  "language_info": {
   "codemirror_mode": {
    "name": "ipython",
    "version": 3
   },
   "file_extension": ".py",
   "mimetype": "text/x-python",
   "name": "python",
   "nbconvert_exporter": "python",
   "pygments_lexer": "ipython3",
   "version": "3.7.4"
  }
 },
 "nbformat": 4,
 "nbformat_minor": 2
}
